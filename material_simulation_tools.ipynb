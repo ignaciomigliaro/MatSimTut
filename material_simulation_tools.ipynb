{
 "cells": [
  {
   "cell_type": "markdown",
   "id": "016cf1ef-7e10-4452-8c58-04dcb0f87784",
   "metadata": {},
   "source": [
    "# Material simulation Python tools: "
   ]
  },
  {
   "cell_type": "markdown",
   "id": "22b2132f-7cb2-4856-8eab-a4786bf39e9a",
   "metadata": {},
   "source": [
    "This notebook is made with the intention of teaching the basics of Material Simulation through the use of Python libraries. These libraries can help speed the automation and analysis of materials calculations. The main libraries we will be looking at are ASE and Pymatgen. "
   ]
  },
  {
   "cell_type": "markdown",
   "id": "79f0e39a-be75-423c-928a-cb53494ca30d",
   "metadata": {},
   "source": [
    "## Benefits of Using Objects in Python\n"
   ]
  },
  {
   "cell_type": "markdown",
   "id": "11252114-853f-4f13-ac9d-08c7523d01ab",
   "metadata": {},
   "source": [
    "\n",
    "### Introduction\n",
    "In Python, everything is an object. Understanding and leveraging object-oriented programming (OOP) concepts can greatly enhance the structure and modularity of your code. Here are some benefits of using objects in Python:\n",
    "\n",
    "1. **Encapsulation:**\n",
    "   - Objects encapsulate data and behavior within a single unit, making it easier to manage and understand.\n",
    "\n",
    "2. **Abstraction:**\n",
    "   - Objects allow you to abstract complex systems, providing a simplified interface for users. They hide the implementation details and expose only what is necessary.\n",
    "\n",
    "3. **Reusability:**\n",
    "   - Objects promote code reusability. Once you create a class (a blueprint for an object), you can create multiple instances of that class, reducing redundancy in your code.\n",
    "\n",
    "4. **Inheritance:**\n",
    "   - Inheritance allows you to create a new class that is a modified version of an existing class. This promotes code reuse and helps in building hierarchical relationships between classes.\n",
    "\n",
    "5. **Polymorphism:**\n",
    "   - Polymorphism allows objects of different types to be treated as objects of a common type. This enables flexibility and extensibility in your code.\n",
    "\n",
    "\n"
   ]
  },
  {
   "cell_type": "code",
   "execution_count": 28,
   "id": "9eff2ea6-0289-4ddc-ab78-1861143e4575",
   "metadata": {},
   "outputs": [
    {
     "name": "stdout",
     "output_type": "stream",
     "text": [
      "Buddy is 3 years old.\n",
      "Buddy is barking!\n"
     ]
    }
   ],
   "source": [
    "class Dog:\n",
    "    def __init__(self, name, age):\n",
    "        self.name = name\n",
    "        self.age = age\n",
    "\n",
    "    def bark(self):\n",
    "        print(f\"{self.name} is barking!\")\n",
    "\n",
    "# Creating an instance of the Dog class\n",
    "my_dog = Dog(\"Buddy\", 3)\n",
    "\n",
    "# Accessing attributes and calling methods\n",
    "print(f\"{my_dog.name} is {my_dog.age} years old.\")\n",
    "my_dog.bark()\n"
   ]
  },
  {
   "cell_type": "markdown",
   "id": "87859137-c6fd-4fae-a76d-46bb65c08a7c",
   "metadata": {},
   "source": [
    "## Import modules"
   ]
  },
  {
   "cell_type": "code",
   "execution_count": 1,
   "id": "d8dbb7dd-e620-45fd-b5c4-7045fc23d123",
   "metadata": {},
   "outputs": [],
   "source": [
    "try:\n",
    "    import ase\n",
    "except ImportError:\n",
    "    !pip install ase\n",
    "try: \n",
    "    import pymatgen\n",
    "except ImportError:\n",
    "    !pip install pymatgen"
   ]
  },
  {
   "cell_type": "markdown",
   "id": "058ee62b-d863-458c-b9fa-86cc374ca8e8",
   "metadata": {
    "slideshow": {
     "slide_type": "slide"
    }
   },
   "source": [
    "# Pymatgen Structures and Molecules\n",
    "\n",
    "Most of the fundamentals of pymatgen are expressed in terms of [**`Molecule`**](http://pymatgen.org/pymatgen.core.structure.html#pymatgen.core.structure.Molecule) and [**`Structure`**](http://pymatgen.org/pymatgen.core.structure.html#pymatgen.core.structure.Structure) objects.\n",
    "\n",
    "While we will mostly be using `Structure`, `Stucture` and `Molecule` are very similar conceptually. The main difference is that `Structure` supports full periodicity required to describe crystallographic structures.\n",
    "\n",
    "Creating a `Structure` can be done in one line, even for complicated crystallographic structures. However, we'll start by introducing the somewhat simpler `Molecule` object, and then use this understanding of `Molecule` to introduce `Structure`."
   ]
  },
  {
   "cell_type": "markdown",
   "id": "5500bcd9-1d4e-4abf-8026-6638145f0992",
   "metadata": {
    "slideshow": {
     "slide_type": "subslide"
    }
   },
   "source": [
    "## Creating a Molecule\n",
    "\n",
    "Start by importing `Molecule`:"
   ]
  },
  {
   "cell_type": "code",
   "execution_count": 2,
   "id": "71fb2765-f4b2-4661-a04d-2b615eaded3b",
   "metadata": {
    "slideshow": {
     "slide_type": "fragment"
    }
   },
   "outputs": [],
   "source": [
    "from pymatgen.core.structure import Molecule"
   ]
  },
  {
   "cell_type": "markdown",
   "id": "ab807808-5d79-4d04-8a16-93a7280d2e9d",
   "metadata": {
    "slideshow": {
     "slide_type": "fragment"
    }
   },
   "source": [
    "In a Jupyter notebook, you can show help for any Python object by clicking on the object and pressing **Shift+Tab**. This will give you a list of arguments and keyword arguments necessary to construct the object, as well as the documentation ('docstring') which gives more information on what each argument means."
   ]
  },
  {
   "cell_type": "code",
   "execution_count": 3,
   "id": "35870076-da90-4834-bb76-9f7987062ba0",
   "metadata": {
    "slideshow": {
     "slide_type": "fragment"
    }
   },
   "outputs": [
    {
     "data": {
      "text/plain": [
       "pymatgen.core.structure.Molecule"
      ]
     },
     "execution_count": 3,
     "metadata": {},
     "output_type": "execute_result"
    }
   ],
   "source": [
    "Molecule"
   ]
  },
  {
   "cell_type": "markdown",
   "id": "ded465a4-ea14-46ac-bdbc-dc7cbeab44ee",
   "metadata": {
    "slideshow": {
     "slide_type": "subslide"
    }
   },
   "source": [
    "Molecule takes input **arguments** `species` and `coords`, and input **keyword arguments** `charge`, `spin_multiplicity`, `validate_proximity` and `site_properties`.\n",
    "\n",
    "Keyword arguments come with a default value (the value after the equals sign), and so keyword arguments are optional.\n",
    "\n",
    "Arguments (without default values) are mandatory."
   ]
  },
  {
   "cell_type": "code",
   "execution_count": 4,
   "id": "dd18fea9-dd2b-4fc6-b51a-07a7b5d47f58",
   "metadata": {
    "slideshow": {
     "slide_type": "fragment"
    }
   },
   "outputs": [
    {
     "name": "stdout",
     "output_type": "stream",
     "text": [
      "Full Formula (C1 O1)\n",
      "Reduced Formula: CO\n",
      "Charge = 0.0, Spin Mult = 1\n",
      "Sites (2)\n",
      "0 C     0.000000     0.000000     0.000000\n",
      "1 O     0.000000     0.000000     1.200000\n"
     ]
    }
   ],
   "source": [
    "c_monox = Molecule([\"C\",\"O\"], [[0.0, 0.0, 0.0], [0.0, 0.0, 1.2]])\n",
    "print(c_monox)"
   ]
  },
  {
   "cell_type": "markdown",
   "id": "edcc1e8d-96d6-4628-9c16-c3e5b5d51305",
   "metadata": {},
   "source": [
    "Alright, now let's use a keyword variable to change a default. How about we make an anion?"
   ]
  },
  {
   "cell_type": "code",
   "execution_count": 5,
   "id": "c9aab1a0-6bd9-4329-a413-c378deeeba90",
   "metadata": {
    "slideshow": {
     "slide_type": "fragment"
    }
   },
   "outputs": [
    {
     "name": "stdout",
     "output_type": "stream",
     "text": [
      "Full Formula (H1 O1)\n",
      "Reduced Formula: H2O2\n",
      "Charge = -1, Spin Mult = 1\n",
      "Sites (2)\n",
      "0 O     0.000000     0.000000     0.000000\n",
      "1 H     0.000000     0.000000     1.000000\n"
     ]
    }
   ],
   "source": [
    "oh_minus = Molecule([\"O\", \"H\"], [[0.0, 0.0, 0.0], [0.0, 0.0, 1.0]], charge=-1)\n",
    "print(oh_minus)"
   ]
  },
  {
   "cell_type": "markdown",
   "id": "b5ebbda1-d103-4876-bf79-a2f1d587fe7c",
   "metadata": {},
   "source": [
    "You can also create Molecule objects from files. Let's say you have an \\*.xyz file called \"water.xyz\". You can import that into pymatgen with `Molecule.from_file`, like:"
   ]
  },
  {
   "cell_type": "code",
   "execution_count": 21,
   "id": "5a9d3065-5852-455c-b312-f5388349f55d",
   "metadata": {},
   "outputs": [
    {
     "name": "stdout",
     "output_type": "stream",
     "text": [
      "Full Formula (H2 O1)\n",
      "Reduced Formula: H2O\n",
      "Charge = 0, Spin Mult = 1\n",
      "Sites (3)\n",
      "0 O    -0.070000    -0.026960    -0.095240\n",
      "1 H     0.919330    -0.015310    -0.054070\n",
      "2 H    -0.359290     0.231000     0.816010\n"
     ]
    }
   ],
   "source": [
    "water = Molecule.from_file(\"water.xyz\")\n",
    "print(water)"
   ]
  },
  {
   "cell_type": "markdown",
   "id": "430722b9-c133-45e8-863f-4c59f69f8ccc",
   "metadata": {},
   "source": [
    "## Exercise: Making Molecules\n",
    "\n",
    "Try it yourself! Create molecules however you like!\n",
    "\n",
    "In this folder are several example molecules (`methane.xyz`, `furan.xyz`, and `benzene.xyz`). Try loading these files with `Molecule.from_file`. You can also try making a Molecule from a list of species and coordinates. Try changing the default parameters - see what you can and cannot do (for instance, look at varying the charge and the spin multiplicity)."
   ]
  },
  {
   "cell_type": "markdown",
   "id": "b4bf3479-647c-4808-8197-8f9b7bc21bc8",
   "metadata": {
    "slideshow": {
     "slide_type": "subslide"
    }
   },
   "source": [
    "## What's in a Molecule? Introducing Sites, Elements and Species"
   ]
  },
  {
   "cell_type": "markdown",
   "id": "027ca834-789d-4435-acad-92329eee2f37",
   "metadata": {
    "slideshow": {
     "slide_type": "fragment"
    }
   },
   "source": [
    "You can access properties of the molecule, such as the Cartesian coordinates of its sites:"
   ]
  },
  {
   "cell_type": "code",
   "execution_count": null,
   "id": "bbbccfb7-a08e-474b-8e2b-33065800db78",
   "metadata": {
    "slideshow": {
     "slide_type": "fragment"
    }
   },
   "outputs": [],
   "source": [
    "print(c_monox.cart_coords)"
   ]
  },
  {
   "cell_type": "markdown",
   "id": "63cf9dd7-64ad-4cbe-8915-c481e7531758",
   "metadata": {
    "slideshow": {
     "slide_type": "fragment"
    }
   },
   "source": [
    "or properties that are computed on-the-fly, such as its center of mass:"
   ]
  },
  {
   "cell_type": "code",
   "execution_count": null,
   "id": "11268cb0-9134-4942-adcb-bb1155cfb357",
   "metadata": {
    "slideshow": {
     "slide_type": "fragment"
    }
   },
   "outputs": [],
   "source": [
    "print(c_monox.center_of_mass)"
   ]
  },
  {
   "cell_type": "markdown",
   "id": "d67c75c2-46ca-493e-b7da-9eb7d1e3ec52",
   "metadata": {
    "slideshow": {
     "slide_type": "subslide"
    }
   },
   "source": [
    "To see the full list of available properties and methods, press **Tab** after typing `my_molecule.` in your Jupyter notebook. There are methods used to modify the molecule and these take additional argument(s). For example, to add a charge to the molecule:"
   ]
  },
  {
   "cell_type": "code",
   "execution_count": null,
   "id": "36b2f5ef-b4a4-4131-abae-261909211ed7",
   "metadata": {
    "slideshow": {
     "slide_type": "fragment"
    }
   },
   "outputs": [],
   "source": [
    "c_monox.set_charge_and_spin(charge=1)"
   ]
  },
  {
   "cell_type": "code",
   "execution_count": null,
   "id": "92441441-7bab-4fff-9231-bcbadab5d8d0",
   "metadata": {
    "slideshow": {
     "slide_type": "fragment"
    }
   },
   "outputs": [],
   "source": [
    "print(c_monox)"
   ]
  },
  {
   "cell_type": "markdown",
   "id": "d00fca9f-a151-4f81-a7c4-77b745ecd704",
   "metadata": {
    "slideshow": {
     "slide_type": "subslide"
    }
   },
   "source": [
    "A molecule is essentially a list of `Site` objects. We can access these sites like we would a list in Python. For example, to obtain the total number of sites in the molecule:"
   ]
  },
  {
   "cell_type": "code",
   "execution_count": null,
   "id": "15aacdfa-ac96-48d1-8506-6a05ea0f71bf",
   "metadata": {
    "slideshow": {
     "slide_type": "fragment"
    }
   },
   "outputs": [],
   "source": [
    "len(c_monox)"
   ]
  },
  {
   "cell_type": "markdown",
   "id": "685db693-14e3-48f5-b6e7-1da980774133",
   "metadata": {
    "slideshow": {
     "slide_type": "fragment"
    }
   },
   "source": [
    "Or to access the first site (note that Python is a 0-indexed programming language, so the first site is site 0):"
   ]
  },
  {
   "cell_type": "code",
   "execution_count": null,
   "id": "b03f44cf-7814-4244-81ba-df9d04d9da9c",
   "metadata": {
    "slideshow": {
     "slide_type": "fragment"
    }
   },
   "outputs": [],
   "source": [
    "print(c_monox[0])"
   ]
  },
  {
   "cell_type": "markdown",
   "id": "dcdcc5d9-1419-4907-9ad5-b81708667310",
   "metadata": {},
   "source": [
    "And just like a list, I can even change the elements of a molecule."
   ]
  },
  {
   "cell_type": "code",
   "execution_count": 7,
   "id": "22c00a28-638d-4555-8858-ba4a08584868",
   "metadata": {},
   "outputs": [
    {
     "name": "stdout",
     "output_type": "stream",
     "text": [
      "Full Formula (C1 O1)\n",
      "Reduced Formula: CO\n",
      "Charge = 0.0, Spin Mult = 1\n",
      "Sites (2)\n",
      "0 O     0.000000     0.000000     0.000000\n",
      "1 C     0.000000     0.000000     1.200000\n"
     ]
    }
   ],
   "source": [
    "c_monox[0] = \"O\"\n",
    "c_monox[1] = \"C\"\n",
    "print(c_monox)"
   ]
  },
  {
   "cell_type": "markdown",
   "id": "473a6910-7eb3-4367-b531-1fd6619b92b8",
   "metadata": {
    "slideshow": {
     "slide_type": "subslide"
    }
   },
   "source": [
    "A site object contains information on the site's identity and position in space."
   ]
  },
  {
   "cell_type": "code",
   "execution_count": 8,
   "id": "afecad00-11e5-4a09-b306-2ab63d4789e8",
   "metadata": {
    "slideshow": {
     "slide_type": "fragment"
    }
   },
   "outputs": [],
   "source": [
    "site0 = c_monox[0]"
   ]
  },
  {
   "cell_type": "code",
   "execution_count": 9,
   "id": "0a611c4f-ac98-47e2-b814-c77ce9a5c15a",
   "metadata": {
    "slideshow": {
     "slide_type": "fragment"
    }
   },
   "outputs": [
    {
     "data": {
      "text/plain": [
       "array([0., 0., 0.])"
      ]
     },
     "execution_count": 9,
     "metadata": {},
     "output_type": "execute_result"
    }
   ],
   "source": [
    "site0.coords"
   ]
  },
  {
   "cell_type": "code",
   "execution_count": 10,
   "id": "d3a9e30c-dc05-4c68-8d7b-86b5ef3b863c",
   "metadata": {
    "slideshow": {
     "slide_type": "fragment"
    }
   },
   "outputs": [
    {
     "data": {
      "text/plain": [
       "Element O"
      ]
     },
     "execution_count": 10,
     "metadata": {},
     "output_type": "execute_result"
    }
   ],
   "source": [
    "site0.specie"
   ]
  },
  {
   "cell_type": "markdown",
   "id": "71074721-a904-4400-890f-65a956501555",
   "metadata": {
    "slideshow": {
     "slide_type": "fragment"
    }
   },
   "source": [
    "Here, because we switched the elements, the site holds the element O. In general, a site can hold an [**`Element`**](http://pymatgen.org/pymatgen.core.periodic_table.html#pymatgen.core.periodic_table.Element), a [**`Specie`**](http://pymatgen.org/pymatgen.core.periodic_table.html#pymatgen.core.periodic_table.Specie) or a [**`Composition`**](http://pymatgen.org/pymatgen.core.composition.html#pymatgen.core.composition.Composition). Let's look at each of these in turn."
   ]
  },
  {
   "cell_type": "code",
   "execution_count": 11,
   "id": "09b25d16-2bd0-4d26-b3c1-5dd714e00255",
   "metadata": {
    "slideshow": {
     "slide_type": "subslide"
    }
   },
   "outputs": [],
   "source": [
    "from pymatgen.core.composition import Element, Composition\n",
    "from pymatgen.core.periodic_table import Specie"
   ]
  },
  {
   "cell_type": "markdown",
   "id": "1bb54d51-1cc4-4756-9d5d-bf7fca9dc6f4",
   "metadata": {
    "slideshow": {
     "slide_type": "fragment"
    }
   },
   "source": [
    "An `Element` is simply an element from the Periodic Table."
   ]
  },
  {
   "cell_type": "code",
   "execution_count": 12,
   "id": "3d7622cf-1941-4792-a927-3d9702d5289e",
   "metadata": {
    "slideshow": {
     "slide_type": "fragment"
    }
   },
   "outputs": [],
   "source": [
    "carbon = Element('C')"
   ]
  },
  {
   "cell_type": "markdown",
   "id": "2717d7d9-8609-41a7-a66b-efeec568a974",
   "metadata": {
    "slideshow": {
     "slide_type": "fragment"
    }
   },
   "source": [
    "Elements have properties such as atomic mass, average ionic radius and more:"
   ]
  },
  {
   "cell_type": "code",
   "execution_count": 13,
   "id": "05dd0774-b8f3-4b51-8bb0-542c90aee89d",
   "metadata": {
    "slideshow": {
     "slide_type": "fragment"
    }
   },
   "outputs": [
    {
     "data": {
      "text/plain": [
       "0.3"
      ]
     },
     "execution_count": 13,
     "metadata": {},
     "output_type": "execute_result"
    }
   ],
   "source": [
    "carbon.average_ionic_radius"
   ]
  },
  {
   "cell_type": "markdown",
   "id": "01a3dd76-982f-4f48-a668-d6092f59cd23",
   "metadata": {
    "slideshow": {
     "slide_type": "subslide"
    }
   },
   "source": [
    "A `Specie` can contain additional information, such as oxidation state:"
   ]
  },
  {
   "cell_type": "code",
   "execution_count": 14,
   "id": "c92eed53-bf5a-47f7-8254-a102c531c3eb",
   "metadata": {
    "slideshow": {
     "slide_type": "fragment"
    }
   },
   "outputs": [
    {
     "data": {
      "text/plain": [
       "Species O2-"
      ]
     },
     "execution_count": 14,
     "metadata": {},
     "output_type": "execute_result"
    }
   ],
   "source": [
    "o_ion = Specie('O', oxidation_state=-2)\n",
    "o_ion"
   ]
  },
  {
   "cell_type": "markdown",
   "id": "9488087b-b6a8-4fd6-9ecb-c925feab284f",
   "metadata": {},
   "source": [
    "Again, we can access both these **`Specie`**-specific properties and more general properties of Elements."
   ]
  },
  {
   "cell_type": "code",
   "execution_count": 15,
   "id": "a9e0ed9a-93e9-4ec4-bf98-7c30dd995f2d",
   "metadata": {},
   "outputs": [
    {
     "data": {
      "text/plain": [
       "-2"
      ]
     },
     "execution_count": 15,
     "metadata": {},
     "output_type": "execute_result"
    }
   ],
   "source": [
    "o_ion.oxi_state"
   ]
  },
  {
   "cell_type": "code",
   "execution_count": 16,
   "id": "26627286-3015-4eb2-90c7-66f9fde61854",
   "metadata": {},
   "outputs": [
    {
     "data": {
      "text/plain": [
       "15.9994"
      ]
     },
     "execution_count": 16,
     "metadata": {},
     "output_type": "execute_result"
    }
   ],
   "source": [
    "o_ion.atomic_mass"
   ]
  },
  {
   "cell_type": "markdown",
   "id": "dcd46f17-b665-4024-945f-d578f44b2345",
   "metadata": {
    "slideshow": {
     "slide_type": "fragment"
    }
   },
   "source": [
    "Or, for convenience, we can use strings, which will be interpreted as elements with oxidation states:"
   ]
  },
  {
   "cell_type": "code",
   "execution_count": 29,
   "id": "5529d1db-11a8-4670-b2db-29cd5e53ab5b",
   "metadata": {
    "slideshow": {
     "slide_type": "fragment"
    }
   },
   "outputs": [
    {
     "data": {
      "text/plain": [
       "Species O2-"
      ]
     },
     "execution_count": 29,
     "metadata": {},
     "output_type": "execute_result"
    }
   ],
   "source": [
    "Specie('O2-')"
   ]
  },
  {
   "cell_type": "markdown",
   "id": "f8a72e00-52d0-46a7-99a8-53635fa9b3d0",
   "metadata": {
    "slideshow": {
     "slide_type": "subslide"
    }
   },
   "source": [
    "Finally, a `Composition` is an object that can hold certain amounts of different elements or species. This is most useful in a disordered Structure, and would rarely be used in a Molecule. For example, a site that holds 50% Au and 50% Cu would be set as follows:"
   ]
  },
  {
   "cell_type": "code",
   "execution_count": 18,
   "id": "63cd9a69-bdb3-428d-8e0e-1df9d4a155a7",
   "metadata": {
    "slideshow": {
     "slide_type": "fragment"
    }
   },
   "outputs": [],
   "source": [
    "comp = Composition({'Au': 0.5, 'Cu': 0.5})"
   ]
  },
  {
   "cell_type": "markdown",
   "id": "aa4d1707-fe4b-4767-b4b9-aa15fa90e1d2",
   "metadata": {},
   "source": [
    "A **`Composition`** contains more information than either an **`Element`** or a **`Specie`**. Because it can contain multiple **`Elements`**/**`Species`**, you can obtain the formula, or the chemical system."
   ]
  },
  {
   "cell_type": "code",
   "execution_count": 19,
   "id": "86e4c111-4168-4d99-ac51-b4dba211a36e",
   "metadata": {},
   "outputs": [
    {
     "name": "stdout",
     "output_type": "stream",
     "text": [
      "formula Au0.5 Cu0.5\n",
      "chemical system Au-Cu\n"
     ]
    }
   ],
   "source": [
    "print(\"formula\", comp.alphabetical_formula)\n",
    "print(\"chemical system\", comp.chemical_system)"
   ]
  },
  {
   "cell_type": "markdown",
   "id": "4859c6e6-6bc2-41ec-807c-775895cd6cf9",
   "metadata": {
    "slideshow": {
     "slide_type": "fragment"
    }
   },
   "source": [
    "When we construct a `Molecule`, the input argument will automatically be converted into one of `Element`, `Specie` or `Composition`. Thus, in the previous example, when we first defined carbon monoxide, the input `['C', 'O']` was converted to `[Element C, Element O]`."
   ]
  },
  {
   "cell_type": "markdown",
   "id": "e176fad4-0a83-4bfd-a680-0ace7270ac76",
   "metadata": {
    "slideshow": {
     "slide_type": "slide"
    }
   },
   "source": [
    "## Exercise: Hydrogen Cyanide\n",
    "\n",
    "Construct the linear HCN molecule where each bond distance is the sum of the two atomic radii.\n",
    "\n",
    "HINT: To do this, you'll probably want to use some Element properties!"
   ]
  },
  {
   "cell_type": "code",
   "execution_count": 20,
   "id": "b971f191-50a3-4f65-96b2-cfda4b22fa5c",
   "metadata": {
    "slideshow": {
     "slide_type": "fragment"
    }
   },
   "outputs": [
    {
     "name": "stdout",
     "output_type": "stream",
     "text": [
      "Full Formula (H1 C1 N1)\n",
      "Reduced Formula: HCN\n",
      "Charge = 0.0, Spin Mult = 1\n",
      "Sites (3)\n",
      "0 H     0.000000     0.000000     0.000000\n",
      "1 C     0.950000     0.000000     0.000000\n",
      "2 N     2.300000     0.000000     0.000000\n"
     ]
    }
   ],
   "source": [
    "H_rad = Element('H').atomic_radius\n",
    "C_rad = Element('C').atomic_radius\n",
    "N_rad = Element('N').atomic_radius\n",
    "HC_bond_dist = H_rad + C_rad\n",
    "CN_bond_dist = C_rad + N_rad\n",
    "H_pos = 0\n",
    "C_pos = H_pos + HC_bond_dist\n",
    "N_pos = C_pos + CN_bond_dist\n",
    "hcn = Molecule(['H','C','N'], [[H_pos, 0, 0], [C_pos, 0, 0],[N_pos, 0, 0]])\n",
    "print(hcn)"
   ]
  },
  {
   "cell_type": "markdown",
   "id": "41e653c6-aa38-402e-a051-9282d1a0310a",
   "metadata": {
    "slideshow": {
     "slide_type": "slide"
    }
   },
   "source": [
    "## Creating a Structure and Lattice"
   ]
  },
  {
   "cell_type": "markdown",
   "id": "308f9282-9ee0-4e0a-9f68-2cdc5ae3d961",
   "metadata": {
    "slideshow": {
     "slide_type": "fragment"
    }
   },
   "source": [
    "Creating a `Structure` is very similar to creating a `Molecule`, except we now also have to specify a `Lattice`. "
   ]
  },
  {
   "cell_type": "code",
   "execution_count": 24,
   "id": "f8f91dc0-cad5-4578-a2fb-e9c87977583b",
   "metadata": {
    "slideshow": {
     "slide_type": "fragment"
    }
   },
   "outputs": [],
   "source": [
    "from pymatgen.core import Lattice, Structure"
   ]
  },
  {
   "cell_type": "markdown",
   "id": "77a7dd77-9655-421a-aca7-e3956e7a7a18",
   "metadata": {
    "slideshow": {
     "slide_type": "fragment"
    }
   },
   "source": [
    "A `Lattice` can be created in one of several ways, such as by inputting a 3x3 matrix describing the individual lattice vectors. For example, a cubic lattice of length 5 Ångstrom:"
   ]
  },
  {
   "cell_type": "code",
   "execution_count": 25,
   "id": "c70b5ae4-a869-49eb-bef7-81d443a47b3d",
   "metadata": {
    "slideshow": {
     "slide_type": "fragment"
    }
   },
   "outputs": [],
   "source": [
    "my_lattice = Lattice([[5, 0, 0], [0, 5, 0], [0, 0, 5]])"
   ]
  },
  {
   "cell_type": "code",
   "execution_count": 26,
   "id": "0215ed18-baaf-4d7c-905a-ed7118f7ae51",
   "metadata": {
    "slideshow": {
     "slide_type": "fragment"
    }
   },
   "outputs": [
    {
     "name": "stdout",
     "output_type": "stream",
     "text": [
      "5.000000 0.000000 0.000000\n",
      "0.000000 5.000000 0.000000\n",
      "0.000000 0.000000 5.000000\n"
     ]
    }
   ],
   "source": [
    "print(my_lattice)"
   ]
  },
  {
   "cell_type": "markdown",
   "id": "a2b44b34-3c9d-47db-8067-29dcc5395546",
   "metadata": {
    "slideshow": {
     "slide_type": "subslide"
    }
   },
   "source": [
    "Equivalently, we can create it from its lattice parameters:"
   ]
  },
  {
   "cell_type": "code",
   "execution_count": 27,
   "id": "be566aa9-f401-4c93-897f-3ba83806aefb",
   "metadata": {
    "slideshow": {
     "slide_type": "fragment"
    }
   },
   "outputs": [],
   "source": [
    "my_lattice_2 = Lattice.from_parameters(5, 5, 5, 90, 90, 90)"
   ]
  },
  {
   "cell_type": "markdown",
   "id": "f9ac8cf1-1fd2-4c39-8df1-e6a6155bb135",
   "metadata": {
    "slideshow": {
     "slide_type": "fragment"
    }
   },
   "source": [
    "Or, since we know in this case that we have a cubic lattice, a == b == c and alpha == beta == gamma == 90 degrees, so we can simply put:"
   ]
  },
  {
   "cell_type": "code",
   "execution_count": 28,
   "id": "094fe255-bcac-4b6e-b2ea-0c3dba02cc38",
   "metadata": {
    "slideshow": {
     "slide_type": "fragment"
    }
   },
   "outputs": [],
   "source": [
    "my_lattice_3 = Lattice.cubic(5)"
   ]
  },
  {
   "cell_type": "markdown",
   "id": "c67455bc-17ab-4ef4-b71f-d5e8799497e1",
   "metadata": {
    "slideshow": {
     "slide_type": "fragment"
    }
   },
   "source": [
    "We can confirm that these lattices are the same:"
   ]
  },
  {
   "cell_type": "code",
   "execution_count": 29,
   "id": "0adc3076-2dfe-4aca-8013-bc90bb33b168",
   "metadata": {
    "slideshow": {
     "slide_type": "fragment"
    }
   },
   "outputs": [
    {
     "data": {
      "text/plain": [
       "True"
      ]
     },
     "execution_count": 29,
     "metadata": {},
     "output_type": "execute_result"
    }
   ],
   "source": [
    "my_lattice == my_lattice_2 == my_lattice_3"
   ]
  },
  {
   "cell_type": "markdown",
   "id": "312c7714-ddee-4607-b851-1db2ffae655f",
   "metadata": {
    "slideshow": {
     "slide_type": "subslide"
    }
   },
   "source": [
    "Now, we can create a simple crystal structure. Let's start with body-centered-cubic iron:"
   ]
  },
  {
   "cell_type": "code",
   "execution_count": 30,
   "id": "88cf7088-3318-4d76-b352-5b7f03f90093",
   "metadata": {
    "slideshow": {
     "slide_type": "fragment"
    }
   },
   "outputs": [
    {
     "name": "stdout",
     "output_type": "stream",
     "text": [
      "Full Formula (Fe2)\n",
      "Reduced Formula: Fe\n",
      "abc   :   2.800000   2.800000   2.800000\n",
      "angles:  90.000000  90.000000  90.000000\n",
      "pbc   :       True       True       True\n",
      "Sites (2)\n",
      "  #  SP      a    b    c\n",
      "---  ----  ---  ---  ---\n",
      "  0  Fe    0    0    0\n",
      "  1  Fe    0.5  0.5  0.5\n"
     ]
    }
   ],
   "source": [
    "bcc_fe = Structure(Lattice.cubic(2.8), [\"Fe\", \"Fe\"], [[0, 0, 0], [0.5, 0.5, 0.5]])\n",
    "print(bcc_fe)"
   ]
  },
  {
   "cell_type": "code",
   "execution_count": 31,
   "id": "481ad80c-e618-4748-aea1-e10fae34a827",
   "metadata": {
    "slideshow": {
     "slide_type": "fragment"
    }
   },
   "outputs": [
    {
     "name": "stdout",
     "output_type": "stream",
     "text": [
      "Full Formula (Fe2)\n",
      "Reduced Formula: Fe\n",
      "abc   :   2.800000   2.800000   2.800000\n",
      "angles:  90.000000  90.000000  90.000000\n",
      "pbc   :       True       True       True\n",
      "Sites (2)\n",
      "  #  SP      a    b    c\n",
      "---  ----  ---  ---  ---\n",
      "  0  Fe    0    0    0\n",
      "  1  Fe    0.5  0.5  0.5\n"
     ]
    }
   ],
   "source": [
    "print(bcc_fe)"
   ]
  },
  {
   "cell_type": "markdown",
   "id": "b8c9d483-82a7-4c01-a26f-207954c61096",
   "metadata": {
    "slideshow": {
     "slide_type": "fragment"
    }
   },
   "source": [
    "Creating this `Structure` was similar to creating a `Molecule` in that we provided a list of elements and a list of positions. However, there are two key differences: we had to include our `Lattice` object when creating the `Structure` and since we have a lattice, we can define the positions of our sites in *fractional coordinates* with respect to that lattice instead of Cartesian coordinates."
   ]
  },
  {
   "cell_type": "markdown",
   "id": "26c66950-a685-4fd3-9f95-81c57757141e",
   "metadata": {
    "slideshow": {
     "slide_type": "subslide"
    }
   },
   "source": [
    "It's also possible to create an equivalent `Structure` using Cartesian coordinates:"
   ]
  },
  {
   "cell_type": "code",
   "execution_count": 32,
   "id": "b0fb72bb-d0ed-475d-88c3-93e66f198108",
   "metadata": {
    "slideshow": {
     "slide_type": "fragment"
    }
   },
   "outputs": [
    {
     "name": "stdout",
     "output_type": "stream",
     "text": [
      "Full Formula (Fe2)\n",
      "Reduced Formula: Fe\n",
      "abc   :   2.800000   2.800000   2.800000\n",
      "angles:  90.000000  90.000000  90.000000\n",
      "pbc   :       True       True       True\n",
      "Sites (2)\n",
      "  #  SP      a    b    c\n",
      "---  ----  ---  ---  ---\n",
      "  0  Fe    0    0    0\n",
      "  1  Fe    0.5  0.5  0.5\n"
     ]
    }
   ],
   "source": [
    "bcc_fe_from_cart = Structure(Lattice.cubic(2.8), [\"Fe\", \"Fe\"], [[0, 0, 0], [1.4, 1.4, 1.4]],\n",
    "                             coords_are_cartesian=True)\n",
    "print(bcc_fe_from_cart)"
   ]
  },
  {
   "cell_type": "markdown",
   "id": "2bcc0e94-459c-4a06-a024-154df7612992",
   "metadata": {
    "slideshow": {
     "slide_type": "fragment"
    }
   },
   "source": [
    "We can check that both structures are equivalent:"
   ]
  },
  {
   "cell_type": "code",
   "execution_count": 33,
   "id": "2e25af02-4bd2-4a8b-a94c-a88d732a7b23",
   "metadata": {
    "slideshow": {
     "slide_type": "fragment"
    }
   },
   "outputs": [
    {
     "data": {
      "text/plain": [
       "True"
      ]
     },
     "execution_count": 33,
     "metadata": {},
     "output_type": "execute_result"
    }
   ],
   "source": [
    "bcc_fe == bcc_fe_from_cart"
   ]
  },
  {
   "cell_type": "markdown",
   "id": "d0ddca9e-4afb-43b6-b35e-a987e5d28b45",
   "metadata": {
    "slideshow": {
     "slide_type": "subslide"
    }
   },
   "source": [
    "As in a `Molecule`, we can access properties of the structure, such as its volume:"
   ]
  },
  {
   "cell_type": "code",
   "execution_count": 34,
   "id": "b40809a1-7cf5-4f70-b9e9-749f6d5b40d4",
   "metadata": {
    "slideshow": {
     "slide_type": "fragment"
    }
   },
   "outputs": [
    {
     "data": {
      "text/plain": [
       "21.951999999999995"
      ]
     },
     "execution_count": 34,
     "metadata": {},
     "output_type": "execute_result"
    }
   ],
   "source": [
    "bcc_fe.volume"
   ]
  },
  {
   "cell_type": "markdown",
   "id": "8c62e3e9-c7dc-4e63-8bbd-9496f9f9dd32",
   "metadata": {
    "slideshow": {
     "slide_type": "slide"
    }
   },
   "source": [
    "## Creating Structures from Spacegroups"
   ]
  },
  {
   "cell_type": "markdown",
   "id": "408fb6cf-d6e1-41e8-9156-bf105f227b6b",
   "metadata": {
    "slideshow": {
     "slide_type": "fragment"
    }
   },
   "source": [
    "Structures can also be created directly from their spacegroup:"
   ]
  },
  {
   "cell_type": "code",
   "execution_count": 35,
   "id": "76d33a72-9be4-49bb-a050-f4fda2466f6a",
   "metadata": {
    "slideshow": {
     "slide_type": "fragment"
    }
   },
   "outputs": [
    {
     "name": "stdout",
     "output_type": "stream",
     "text": [
      "Full Formula (Fe2)\n",
      "Reduced Formula: Fe\n",
      "abc   :   2.800000   2.800000   2.800000\n",
      "angles:  90.000000  90.000000  90.000000\n",
      "pbc   :       True       True       True\n",
      "Sites (2)\n",
      "  #  SP      a    b    c\n",
      "---  ----  ---  ---  ---\n",
      "  0  Fe    0    0    0\n",
      "  1  Fe    0.5  0.5  0.5\n"
     ]
    }
   ],
   "source": [
    "bcc_fe = Structure.from_spacegroup(\"Im-3m\", Lattice.cubic(2.8), [\"Fe\"], [[0, 0, 0]])\n",
    "print(bcc_fe)"
   ]
  },
  {
   "cell_type": "code",
   "execution_count": 36,
   "id": "f265ee4c-7535-43e6-bea3-7792881747dd",
   "metadata": {
    "slideshow": {
     "slide_type": "subslide"
    }
   },
   "outputs": [
    {
     "name": "stdout",
     "output_type": "stream",
     "text": [
      "Full Formula (Na4 Cl4)\n",
      "Reduced Formula: NaCl\n",
      "abc   :   5.692000   5.692000   5.692000\n",
      "angles:  90.000000  90.000000  90.000000\n",
      "pbc   :       True       True       True\n",
      "Sites (8)\n",
      "  #  SP      a    b    c\n",
      "---  ----  ---  ---  ---\n",
      "  0  Na+   0    0    0\n",
      "  1  Na+   0.5  0.5  0\n",
      "  2  Na+   0.5  0    0.5\n",
      "  3  Na+   0    0.5  0.5\n",
      "  4  Cl-   0.5  0.5  0.5\n",
      "  5  Cl-   0    0    0.5\n",
      "  6  Cl-   0    0.5  0\n",
      "  7  Cl-   0.5  0    0\n"
     ]
    }
   ],
   "source": [
    "nacl = Structure.from_spacegroup(\"Fm-3m\", Lattice.cubic(5.692), [\"Na+\", \"Cl-\"],\n",
    "                                 [[0, 0, 0], [0.5, 0.5, 0.5]])\n",
    "print(nacl)"
   ]
  },
  {
   "cell_type": "markdown",
   "id": "81316ee8-31f8-4c70-94c8-de7ec451c22d",
   "metadata": {
    "slideshow": {
     "slide_type": "subslide"
    }
   },
   "source": [
    "And spacegroups can be obtained from a structure:"
   ]
  },
  {
   "cell_type": "code",
   "execution_count": 37,
   "id": "b11118e8-9257-4766-9559-b539b1fdfb3f",
   "metadata": {
    "slideshow": {
     "slide_type": "fragment"
    }
   },
   "outputs": [
    {
     "data": {
      "text/plain": [
       "('Fm-3m', 225)"
      ]
     },
     "execution_count": 37,
     "metadata": {},
     "output_type": "execute_result"
    }
   ],
   "source": [
    "nacl.get_space_group_info()"
   ]
  },
  {
   "cell_type": "markdown",
   "id": "92e80b56-3bab-49a3-98a9-8bf400e1e249",
   "metadata": {
    "slideshow": {
     "slide_type": "fragment"
    }
   },
   "source": [
    "Where 225 is the spacegroup number."
   ]
  },
  {
   "cell_type": "markdown",
   "id": "c410b787-2fcf-4f9f-8bed-e1ccb503a036",
   "metadata": {},
   "source": [
    "## Supercells"
   ]
  },
  {
   "cell_type": "markdown",
   "id": "20f60a7f-1361-4c40-9000-6944c8762ef4",
   "metadata": {},
   "source": [
    "Alright, we are now well-versed in the art of creating singular structures. But in some cases, you really don't just want one unit cell; you want a supercell. Pymatgen provides a very simple interface to create superstructures. Let's start with the simplest structure that we can imagine: Polonium, a simple cubic metal."
   ]
  },
  {
   "cell_type": "code",
   "execution_count": 38,
   "id": "c07686b1-8825-4add-8f89-e82589dffad4",
   "metadata": {},
   "outputs": [
    {
     "name": "stdout",
     "output_type": "stream",
     "text": [
      "Full Formula (Po1)\n",
      "Reduced Formula: Po\n",
      "abc   :   3.400000   3.400000   3.400000\n",
      "angles:  90.000000  90.000000  90.000000\n",
      "pbc   :       True       True       True\n",
      "Sites (1)\n",
      "  #  SP      a    b    c\n",
      "---  ----  ---  ---  ---\n",
      "  0  Po      0    0    0\n"
     ]
    }
   ],
   "source": [
    "polonium = Structure(Lattice.cubic(3.4), [\"Po\"], [[0.0, 0.0, 0.0]])\n",
    "\n",
    "print(polonium)"
   ]
  },
  {
   "cell_type": "markdown",
   "id": "b1117e25-0371-4001-9a9b-4c3926d68bbc",
   "metadata": {},
   "source": [
    "To make a supercell, we can just multiply the structure by a tuple!"
   ]
  },
  {
   "cell_type": "code",
   "execution_count": 39,
   "id": "19d55d81-d144-423e-a29c-d8f39f3767fa",
   "metadata": {},
   "outputs": [
    {
     "name": "stdout",
     "output_type": "stream",
     "text": [
      "Full Formula (Po8)\n",
      "Reduced Formula: Po\n",
      "abc   :   6.800000   6.800000   6.800000\n",
      "angles:  90.000000  90.000000  90.000000\n",
      "pbc   :       True       True       True\n",
      "Sites (8)\n",
      "  #  SP      a    b    c\n",
      "---  ----  ---  ---  ---\n",
      "  0  Po    0    0    0\n",
      "  1  Po    0    0    0.5\n",
      "  2  Po    0    0.5  0\n",
      "  3  Po    0    0.5  0.5\n",
      "  4  Po    0.5  0    0\n",
      "  5  Po    0.5  0    0.5\n",
      "  6  Po    0.5  0.5  0\n",
      "  7  Po    0.5  0.5  0.5\n"
     ]
    }
   ],
   "source": [
    "supercell = polonium * (2, 2, 2)\n",
    "print(supercell)"
   ]
  },
  {
   "cell_type": "markdown",
   "id": "8ac2aaa5-51ef-4a3a-aeac-c1bea0e5d888",
   "metadata": {
    "jp-MarkdownHeadingCollapsed": true,
    "slideshow": {
     "slide_type": "fragment"
    }
   },
   "source": [
    "## Exercise: Barium Titanate\n",
    "\n",
    "Load BaTiO3 from the CIF file provided (`BaTiO3.cif`). Replace the barium with a new element with atomic number equal to the the day of the month you were born (e.g. 1st = hydrogen, 31st = gallium). Then, make a supercell of N unit cells in one cartesian direction of your choice where N is the integer of your birth month (e.g. January = 1, December = 12)."
   ]
  },
  {
   "cell_type": "code",
   "execution_count": 40,
   "id": "eab55985-64c2-4825-b300-8b0ab58c12bb",
   "metadata": {
    "slideshow": {
     "slide_type": "subslide"
    }
   },
   "outputs": [
    {
     "ename": "FileNotFoundError",
     "evalue": "[Errno 2] No such file or directory: 'BaTiO3.cif'",
     "output_type": "error",
     "traceback": [
      "\u001b[0;31m---------------------------------------------------------------------------\u001b[0m",
      "\u001b[0;31mFileNotFoundError\u001b[0m                         Traceback (most recent call last)",
      "Cell \u001b[0;32mIn[40], line 1\u001b[0m\n\u001b[0;32m----> 1\u001b[0m BaTiO3\u001b[38;5;241m=\u001b[39m\u001b[43mStructure\u001b[49m\u001b[38;5;241;43m.\u001b[39;49m\u001b[43mfrom_file\u001b[49m\u001b[43m(\u001b[49m\u001b[38;5;124;43m\"\u001b[39;49m\u001b[38;5;124;43mBaTiO3.cif\u001b[39;49m\u001b[38;5;124;43m\"\u001b[39;49m\u001b[43m)\u001b[49m\n\u001b[1;32m      2\u001b[0m \u001b[38;5;28mprint\u001b[39m(BaTiO3\u001b[38;5;241m.\u001b[39mget_space_group_info())\n\u001b[1;32m      3\u001b[0m BaTiO3\u001b[38;5;241m.\u001b[39mreplace(\u001b[38;5;241m0\u001b[39m,\u001b[38;5;124m'\u001b[39m\u001b[38;5;124mMg\u001b[39m\u001b[38;5;124m'\u001b[39m)\n",
      "File \u001b[0;32m~/miniconda3/envs/general/lib/python3.10/site-packages/pymatgen/core/structure.py:2903\u001b[0m, in \u001b[0;36mIStructure.from_file\u001b[0;34m(cls, filename, primitive, sort, merge_tol, **kwargs)\u001b[0m\n\u001b[1;32m   2900\u001b[0m \u001b[38;5;28;01mfrom\u001b[39;00m \u001b[38;5;21;01mpymatgen\u001b[39;00m\u001b[38;5;21;01m.\u001b[39;00m\u001b[38;5;21;01mio\u001b[39;00m\u001b[38;5;21;01m.\u001b[39;00m\u001b[38;5;21;01mvasp\u001b[39;00m \u001b[38;5;28;01mimport\u001b[39;00m Chgcar, Vasprun\n\u001b[1;32m   2902\u001b[0m fname \u001b[38;5;241m=\u001b[39m os\u001b[38;5;241m.\u001b[39mpath\u001b[38;5;241m.\u001b[39mbasename(filename)\n\u001b[0;32m-> 2903\u001b[0m \u001b[38;5;28;01mwith\u001b[39;00m \u001b[43mzopen\u001b[49m\u001b[43m(\u001b[49m\u001b[43mfilename\u001b[49m\u001b[43m,\u001b[49m\u001b[43m \u001b[49m\u001b[43mmode\u001b[49m\u001b[38;5;241;43m=\u001b[39;49m\u001b[38;5;124;43m\"\u001b[39;49m\u001b[38;5;124;43mrt\u001b[39;49m\u001b[38;5;124;43m\"\u001b[39;49m\u001b[43m,\u001b[49m\u001b[43m \u001b[49m\u001b[43merrors\u001b[49m\u001b[38;5;241;43m=\u001b[39;49m\u001b[38;5;124;43m\"\u001b[39;49m\u001b[38;5;124;43mreplace\u001b[39;49m\u001b[38;5;124;43m\"\u001b[39;49m\u001b[43m)\u001b[49m \u001b[38;5;28;01mas\u001b[39;00m file:\n\u001b[1;32m   2904\u001b[0m     contents \u001b[38;5;241m=\u001b[39m file\u001b[38;5;241m.\u001b[39mread()\n\u001b[1;32m   2905\u001b[0m \u001b[38;5;28;01mif\u001b[39;00m fnmatch(fname\u001b[38;5;241m.\u001b[39mlower(), \u001b[38;5;124m\"\u001b[39m\u001b[38;5;124m*.cif*\u001b[39m\u001b[38;5;124m\"\u001b[39m) \u001b[38;5;129;01mor\u001b[39;00m fnmatch(fname\u001b[38;5;241m.\u001b[39mlower(), \u001b[38;5;124m\"\u001b[39m\u001b[38;5;124m*.mcif*\u001b[39m\u001b[38;5;124m\"\u001b[39m):\n",
      "File \u001b[0;32m~/miniconda3/envs/general/lib/python3.10/site-packages/monty/io.py:45\u001b[0m, in \u001b[0;36mzopen\u001b[0;34m(filename, *args, **kwargs)\u001b[0m\n\u001b[1;32m     43\u001b[0m \u001b[38;5;28;01mif\u001b[39;00m ext \u001b[38;5;129;01min\u001b[39;00m (\u001b[38;5;124m\"\u001b[39m\u001b[38;5;124m.XZ\u001b[39m\u001b[38;5;124m\"\u001b[39m, \u001b[38;5;124m\"\u001b[39m\u001b[38;5;124m.LZMA\u001b[39m\u001b[38;5;124m\"\u001b[39m):\n\u001b[1;32m     44\u001b[0m     \u001b[38;5;28;01mreturn\u001b[39;00m lzma\u001b[38;5;241m.\u001b[39mopen(filename, \u001b[38;5;241m*\u001b[39margs, \u001b[38;5;241m*\u001b[39m\u001b[38;5;241m*\u001b[39mkwargs)\n\u001b[0;32m---> 45\u001b[0m \u001b[38;5;28;01mreturn\u001b[39;00m \u001b[38;5;28;43mopen\u001b[39;49m\u001b[43m(\u001b[49m\u001b[43mfilename\u001b[49m\u001b[43m,\u001b[49m\u001b[43m \u001b[49m\u001b[38;5;241;43m*\u001b[39;49m\u001b[43margs\u001b[49m\u001b[43m,\u001b[49m\u001b[43m \u001b[49m\u001b[38;5;241;43m*\u001b[39;49m\u001b[38;5;241;43m*\u001b[39;49m\u001b[43mkwargs\u001b[49m\u001b[43m)\u001b[49m\n",
      "\u001b[0;31mFileNotFoundError\u001b[0m: [Errno 2] No such file or directory: 'BaTiO3.cif'"
     ]
    }
   ],
   "source": [
    "BaTiO3=Structure.from_file(\"BaTiO3.cif\")\n",
    "print(BaTiO3.get_space_group_info())\n",
    "BaTiO3.replace(0,'Mg')\n",
    "BaTiO3=BaTiO3*(1,1,4)\n",
    "print(BaTiO3)\n",
    "print(BaTiO3.get_space_group_info())"
   ]
  },
  {
   "cell_type": "markdown",
   "id": "8295c1df-499d-4b3a-803a-0055994ead43",
   "metadata": {
    "slideshow": {
     "slide_type": "slide"
    }
   },
   "source": [
    "## Summary\n",
    "\n",
    "This notebook is intended to provide a short introduction to some of the functionality of pymatgen. We've examined the building blocks of pymatgen: the `Structure` and `Molecule` objects, as well as the `Lattice`, `Element`, `Specie` and `Composition` objects that they're made up of."
   ]
  },
  {
   "cell_type": "markdown",
   "id": "637c7ef7-51f5-4bf0-ac22-43e316faa73b",
   "metadata": {},
   "source": [
    "# ASE atoms and structure object "
   ]
  },
  {
   "cell_type": "markdown",
   "id": "09911c9f-79d0-41dd-be69-63576eaa6130",
   "metadata": {},
   "source": [
    "Similar to Pymatgen ASE uses object to create data structures to contain the information of a given crystal or molecular structure. "
   ]
  },
  {
   "cell_type": "code",
   "execution_count": null,
   "id": "0814785a-d742-478f-a61c-9181908a3b8f",
   "metadata": {},
   "outputs": [],
   "source": []
  }
 ],
 "metadata": {
  "kernelspec": {
   "display_name": "Python 3 (ipykernel)",
   "language": "python",
   "name": "python3"
  },
  "language_info": {
   "codemirror_mode": {
    "name": "ipython",
    "version": 3
   },
   "file_extension": ".py",
   "mimetype": "text/x-python",
   "name": "python",
   "nbconvert_exporter": "python",
   "pygments_lexer": "ipython3",
   "version": "3.10.13"
  }
 },
 "nbformat": 4,
 "nbformat_minor": 5
}
